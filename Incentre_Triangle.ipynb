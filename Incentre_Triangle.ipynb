{
  "nbformat": 4,
  "nbformat_minor": 0,
  "metadata": {
    "colab": {
      "name": "Incentre_Triangle.ipynb",
      "provenance": [],
      "collapsed_sections": []
    },
    "kernelspec": {
      "name": "python3",
      "display_name": "Python 3"
    },
    "language_info": {
      "name": "python"
    }
  },
  "cells": [
    {
      "cell_type": "code",
      "metadata": {
        "colab": {
          "base_uri": "https://localhost:8080/"
        },
        "id": "_3lJBG4EtElz",
        "outputId": "6ac78f60-7020-4032-cfe0-7c503583b863"
      },
      "source": [
        "#Find Incentre of Triangle ABC\n",
        "import numpy as np\n",
        "  \n",
        "a=np.array([6,-3]) \n",
        "b=np.array([6,18]) \n",
        "c=np.array([-2/3,2]) \n",
        "\n",
        "AB=np.linalg.norm(b-a)\n",
        "BC=np.linalg.norm(c-b)\n",
        "CA=np.linalg.norm(a-c)\n",
        "\n",
        "in_centre = (a*BC+b*CA+c*AB)/(AB+BC+CA)\n",
        "\n",
        "print(\"The incentre of triangle is\", in_centre)"
      ],
      "execution_count": null,
      "outputs": [
        {
          "output_type": "stream",
          "name": "stdout",
          "text": [
            "The incentre of triangle is [3. 3.]\n"
          ]
        }
      ]
    }
  ]
}