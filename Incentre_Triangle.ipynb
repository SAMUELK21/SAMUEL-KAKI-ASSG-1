{
  "nbformat": 4,
  "nbformat_minor": 0,
  "metadata": {
    "colab": {
      "name": "Incentre_Triangle.ipynb",
      "provenance": [],
      "collapsed_sections": [],
      "authorship_tag": "ABX9TyNlAMa56z/RGGflE1DtsXR8",
      "include_colab_link": true
    },
    "kernelspec": {
      "name": "python3",
      "display_name": "Python 3"
    },
    "language_info": {
      "name": "python"
    }
  },
  "cells": [
    {
      "cell_type": "markdown",
      "metadata": {
        "id": "view-in-github",
        "colab_type": "text"
      },
      "source": [
        "<a href=\"https://colab.research.google.com/github/SAMUELK21/SAMUEL-KAKI-ASSG-1/blob/main/Incentre_Triangle.ipynb\" target=\"_parent\"><img src=\"https://colab.research.google.com/assets/colab-badge.svg\" alt=\"Open In Colab\"/></a>"
      ]
    },
    {
      "cell_type": "code",
      "metadata": {
        "colab": {
          "base_uri": "https://localhost:8080/"
        },
        "id": "_3lJBG4EtElz",
        "outputId": "fccc5123-fd9e-4db8-b973-b5afe7ec103b"
      },
      "source": [
        "#Find Incentre of Triangle ABC\n",
        "import numpy as np\n",
        "  \n",
        "a=np.array([6,-13]) \n",
        "b=np.array([6,18]) \n",
        "c=np.array([-2/3,2]) \n",
        "\n",
        "AB=np.linalg.norm(b-a)\n",
        "BC=np.linalg.norm(c-b)\n",
        "CA=np.linalg.norm(a-c)\n",
        "\n",
        "in_centre = (a*BC+b*CA+c*AB)/(AB+BC+CA)\n",
        "\n",
        "print(\"The incentre of triangle is\", in_centre)"
      ],
      "execution_count": 6,
      "outputs": [
        {
          "output_type": "stream",
          "name": "stdout",
          "text": [
            "The incentre of triangle is [2.80814297 2.04071483]\n"
          ]
        }
      ]
    }
  ]
}