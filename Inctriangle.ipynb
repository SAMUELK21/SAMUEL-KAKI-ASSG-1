{
  "nbformat": 4,
  "nbformat_minor": 0,
  "metadata": {
    "colab": {
      "name": "Inctriangle.ipynb",
      "provenance": [],
      "collapsed_sections": []
    },
    "kernelspec": {
      "name": "python3",
      "display_name": "Python 3"
    },
    "language_info": {
      "name": "python"
    }
  },
  "cells": [
    {
      "cell_type": "code",
      "metadata": {
        "colab": {
          "base_uri": "https://localhost:8080/",
          "height": 297
        },
        "id": "i1Y0iy_53a5F",
        "outputId": "b2018b8b-d7b9-4587-c9b4-71bccdf02b19"
      },
      "source": [
        "%matplotlib inline\n",
        "import matplotlib.pyplot as plt\n",
        "import numpy as np\n",
        "import seaborn as sns\n",
        "import math\n",
        "figure, axes = plt.subplots()\n",
        "axes.set_aspect( 10 )\n",
        "#AB\n",
        "x = [6,6]\n",
        "y = [-3,18]\n",
        "#plotting\n",
        "plt.plot(x, y,color='Grey', label = 'AB', linewidth=3)\n",
        "#BC\n",
        "x = [6,-0.67]\n",
        "y = [18,2]\n",
        "#plotting\n",
        "plt.plot(x,y,color='Blue',label ='BC' ,linewidth=3)\n",
        "#CA\n",
        "x = [-0.67,6]\n",
        "y = [2,-3]\n",
        "#plotting\n",
        "plt.plot(x,y,color='Red',label = 'CA' ,linewidth=3)\n",
        "#I\n",
        "x = [2.995]\n",
        "y = [2.993]\n",
        "#plotting\n",
        "plt.plot(x,y, color='black', label = 'I', linewidth=2)\n",
        "#AD\n",
        "x = [1.22, 6]\n",
        "y = [6.532, -3]\n",
        "#plotting\n",
        "plt.plot(x,y, color='black', label = 'AD', linewidth=2)\n",
        "#BE\n",
        "x = [2.34, 6]\n",
        "y = [-0.258, 18]\n",
        "#plotting\n",
        "plt.plot(x,y, color='black', label = 'BE', linewidth=2)\n",
        "#CF\n",
        "x = [6, -0.67]\n",
        "y = [3.808, 2]\n",
        "#plotting\n",
        "plt.plot(x,y, color='black', label = 'CF', linewidth=2)\n",
        "\n",
        "plt.Circle((3,3), 3.1)\n",
        "plt.legend()\n",
        "plt.annotate('A', (6,-3))\n",
        "plt.annotate('B', (6,18))\n",
        "plt.annotate('C',(-0.67,2))\n",
        "plt.annotate ('I', (3,3))\n",
        "\n",
        "\n",
        "plt.ylabel('$y-axis$')\n",
        "plt.xlabel('$x-axis$')\n",
        "plt.grid()\n",
        "plt.axis('equal')\n",
        "plt.savefig('Inctriangle.png',dpi=100)\n",
        "Drawing_uncolored_circle = plt.Circle( (3, 3 ),3.1,fill = False )\n",
        " \n",
        "axes.add_artist( Drawing_uncolored_circle )\n",
        "plt.title( 'Inctriangle' )\n",
        "plt.show()\n"
      ],
      "execution_count": 23,
      "outputs": [
        {
          "output_type": "display_data",
          "data": {
            "image/png": "[encoded data removed]",
            "text/plain": [
              "<Figure size 432x288 with 1 Axes>"
            ]
          },
          "metadata": {
            "needs_background": "light"
          }
        }
      ]
    }
  ]
}